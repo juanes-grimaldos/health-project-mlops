{
 "cells": [
  {
   "cell_type": "code",
   "execution_count": 20,
   "metadata": {},
   "outputs": [],
   "source": [
    "import mlflow\n",
    "import mlflow.pyfunc\n",
    "\n",
    "MLFLOW_TRACKING_URI = \"sqlite:///mlflow.db\"\n",
    "mlflow.set_tracking_uri(MLFLOW_TRACKING_URI)"
   ]
  },
  {
   "cell_type": "code",
   "execution_count": 5,
   "metadata": {},
   "outputs": [],
   "source": [
    "from pipelines.model_registry import ModelRegistry\n",
    "\n",
    "uri = \"sqlite:///mlflow.db\"\n",
    "experiment_name = \"random-forest\"\n",
    "\n",
    "model_registry = ModelRegistry(\n",
    "        tracking_uri=uri,\n",
    "        experiment_name=experiment_name\n",
    "    )"
   ]
  },
  {
   "cell_type": "code",
   "execution_count": 7,
   "metadata": {},
   "outputs": [],
   "source": [
    "model_name = \"random-forest\"\n",
    "stage = \"1\"\n",
    "model_uri = f\"models:/{model_name}/{stage}\"\n",
    "model = mlflow.pyfunc.load_model(model_uri)"
   ]
  },
  {
   "cell_type": "code",
   "execution_count": 9,
   "metadata": {},
   "outputs": [
    {
     "data": {
      "text/plain": [
       "mlflow.pyfunc.loaded_model:\n",
       "  artifact_path: sklearn-model\n",
       "  flavor: mlflow.sklearn\n",
       "  run_id: 9139eff3c5904a5486cda42388f35ad2"
      ]
     },
     "execution_count": 9,
     "metadata": {},
     "output_type": "execute_result"
    }
   ],
   "source": [
    "model"
   ]
  },
  {
   "cell_type": "code",
   "execution_count": 18,
   "metadata": {},
   "outputs": [
    {
     "name": "stderr",
     "output_type": "stream",
     "text": [
      "/tmp/ipykernel_49107/1527911831.py:8: DtypeWarning: Columns (7,12) have mixed types. Specify dtype option on import or set low_memory=False.\n",
      "  data = pd.read_csv(filename)\n"
     ]
    }
   ],
   "source": [
    "import os\n",
    "import pandas as pd\n",
    "from pipelines.load_data import fallback_download\n",
    "from pipelines.load_data import preprocess_data\n",
    "\n",
    "filename = \"referrals.csv\"\n",
    "if os.path.exists(filename):\n",
    "    data = pd.read_csv(filename)\n",
    "    data = preprocess_data(data)\n",
    "else:\n",
    "    # Perform alternative action here\n",
    "    print(\"File 'referrals.csv' does not exist in the current working directory.\")\n",
    "    os.environ['PHYSIONET_USERNAME'] = \"juanesgrimaldos\"\n",
    "    os.environ['PHYSIONET_PASSWORD'] = \";e99;aFLptwQmMp\"\n",
    "    data = fallback_download()\n"
   ]
  },
  {
   "cell_type": "code",
   "execution_count": 19,
   "metadata": {},
   "outputs": [],
   "source": [
    "from pipelines.split_datasets import split_datasets\n",
    "\n",
    "dict_datasets = split_datasets(data)\n",
    "\n",
    "train_data = dict_datasets[\"X_train\"]\n",
    "val_data = dict_datasets[\"X_test\"]"
   ]
  },
  {
   "cell_type": "code",
   "execution_count": 21,
   "metadata": {},
   "outputs": [
    {
     "data": {
      "text/plain": [
       "array([3.44170796, 3.48950178, 3.57208973, ..., 2.97660213, 3.99409742,\n",
       "       2.57977967])"
      ]
     },
     "execution_count": 21,
     "metadata": {},
     "output_type": "execute_result"
    }
   ],
   "source": [
    "model.predict(val_data)"
   ]
  }
 ],
 "metadata": {
  "kernelspec": {
   "display_name": ".venv",
   "language": "python",
   "name": "python3"
  },
  "language_info": {
   "codemirror_mode": {
    "name": "ipython",
    "version": 3
   },
   "file_extension": ".py",
   "mimetype": "text/x-python",
   "name": "python",
   "nbconvert_exporter": "python",
   "pygments_lexer": "ipython3",
   "version": "3.10.13"
  }
 },
 "nbformat": 4,
 "nbformat_minor": 2
}
