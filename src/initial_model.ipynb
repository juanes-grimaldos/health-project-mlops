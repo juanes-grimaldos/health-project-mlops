{
 "cells": [
  {
   "cell_type": "markdown",
   "metadata": {},
   "source": [
    "# Estimating Time from Referral to Procurement\n",
    "\n",
    "**Objective:** Predict the time interval between hospital referral and organ procurement.\n",
    "\n",
    "**Features:**\n",
    "\n",
    "- Patient Demographics: `Age`, `Gender`, `Race`\n",
    "- Medical Details: `Cause_of_Death_UNOS`, `Mechanism_of_Death`, `Circumstances_of_Death`, `ABO_BloodType`, `ABO_Rh`, `HeightIn`, `WeightKg`\n",
    "- Referral and Authorization Details: `Tissue_Referral`, `Eye_Referral`, `brain_death`, `approached`, `authorized`\n",
    "- Timing Information: `time_brain_death`, `time_asystole`, `time_referred`, `time_approached`, `time_authorized`, `Referral_Year`, `Referral_DayofWeek`, `Procured_Year`\n",
    "- Outcome: `outcome_heart`, `outcome_liver`, `outcome_kidney_left`, `outcome_kidney_right`, `outcome_lung_left`, `outcome_lung_right`, `outcome_intestine`, `outcome_pancreas`\n",
    "\n",
    "**Target:** `time_procured` - `time_referred`\n",
    "\n",
    "`time_to_procurement`: Calculated as the difference between time_procured and time_referred\n",
    "\n",
    "**Model Type:** Regression (Linear Regression, Random Forest Regression, Gradient Boosting Regression)"
   ]
  },
  {
   "cell_type": "code",
   "execution_count": 1,
   "metadata": {},
   "outputs": [
    {
     "name": "stderr",
     "output_type": "stream",
     "text": [
      "/tmp/ipykernel_39968/449642640.py:3: DtypeWarning: Columns (7,12) have mixed types. Specify dtype option on import or set low_memory=False.\n",
      "  df = pd.read_csv('data/referrals.csv')\n"
     ]
    }
   ],
   "source": [
    "import pandas as pd\n",
    "# load data bases\n",
    "df = pd.read_csv('data/referrals.csv')"
   ]
  },
  {
   "cell_type": "markdown",
   "metadata": {},
   "source": [
    "# Exploratory data Analysis"
   ]
  },
  {
   "cell_type": "code",
   "execution_count": 2,
   "metadata": {},
   "outputs": [
    {
     "data": {
      "text/plain": [
       "(133101, 38)"
      ]
     },
     "execution_count": 2,
     "metadata": {},
     "output_type": "execute_result"
    }
   ],
   "source": [
    "df.shape"
   ]
  },
  {
   "cell_type": "markdown",
   "metadata": {},
   "source": [
    "We calculate the total number of organ procured by health organization."
   ]
  },
  {
   "cell_type": "code",
   "execution_count": 3,
   "metadata": {},
   "outputs": [
    {
     "data": {
      "text/plain": [
       "time_procured      9502\n",
       "time_referred    133101\n",
       "dtype: int64"
      ]
     },
     "execution_count": 3,
     "metadata": {},
     "output_type": "execute_result"
    }
   ],
   "source": [
    "df[['time_procured', 'time_referred']].count()"
   ]
  },
  {
   "cell_type": "markdown",
   "metadata": {},
   "source": [
    "In total we got 9502 organs procured. We need to subset our dataset to get only this part."
   ]
  },
  {
   "cell_type": "code",
   "execution_count": 4,
   "metadata": {},
   "outputs": [
    {
     "data": {
      "text/plain": [
       "(9502, 38)"
      ]
     },
     "execution_count": 4,
     "metadata": {},
     "output_type": "execute_result"
    }
   ],
   "source": [
    "def filter_data():\n",
    "    df_sub = df.loc[df['time_procured'].notnull() & df['time_referred'].notnull()].copy()\n",
    "    return df_sub\n",
    "df_sub = filter_data()\n",
    "df_sub.shape"
   ]
  },
  {
   "cell_type": "markdown",
   "metadata": {},
   "source": [
    "## What type is my data?"
   ]
  },
  {
   "cell_type": "code",
   "execution_count": 5,
   "metadata": {},
   "outputs": [
    {
     "data": {
      "text/plain": [
       "str"
      ]
     },
     "execution_count": 5,
     "metadata": {},
     "output_type": "execute_result"
    }
   ],
   "source": [
    "type(df_sub.loc[df_sub['time_procured'].notna()]['time_procured'].reset_index(drop=True)[1]) # type: ignore"
   ]
  },
  {
   "cell_type": "code",
   "execution_count": 6,
   "metadata": {},
   "outputs": [
    {
     "data": {
      "text/plain": [
       "str"
      ]
     },
     "execution_count": 6,
     "metadata": {},
     "output_type": "execute_result"
    }
   ],
   "source": [
    "type(df_sub.loc[df_sub['time_referred'].notna()]['time_referred'].reset_index(drop=True)[1]) # type: ignore"
   ]
  },
  {
   "cell_type": "markdown",
   "metadata": {},
   "source": [
    "Since both fields are strings, we need to convert into time data type"
   ]
  },
  {
   "cell_type": "code",
   "execution_count": 7,
   "metadata": {},
   "outputs": [],
   "source": [
    "df_sub['time_referred_time'] = pd.to_datetime(df_sub['time_referred'], format='ISO8601')\n",
    "df_sub['time_procured_time'] = pd.to_datetime(df_sub['time_procured'], format='ISO8601')"
   ]
  },
  {
   "cell_type": "code",
   "execution_count": 8,
   "metadata": {},
   "outputs": [
    {
     "data": {
      "text/plain": [
       "25        4\n",
       "42        2\n",
       "49        2\n",
       "65        4\n",
       "70        6\n",
       "         ..\n",
       "133010    7\n",
       "133023    3\n",
       "133026    4\n",
       "133081    3\n",
       "133090    1\n",
       "Name: time_to_procurement, Length: 9502, dtype: int64"
      ]
     },
     "execution_count": 8,
     "metadata": {},
     "output_type": "execute_result"
    }
   ],
   "source": [
    "df_sub['time_to_procurement'] = (df_sub['time_procured_time'] - df_sub['time_referred_time']).dt.days\n",
    "df_sub['time_to_procurement']"
   ]
  },
  {
   "cell_type": "markdown",
   "metadata": {},
   "source": [
    "# Is ther any outlier?"
   ]
  },
  {
   "cell_type": "code",
   "execution_count": 9,
   "metadata": {},
   "outputs": [
    {
     "data": {
      "image/png": "[encoded data removed]",
      "text/plain": [
       "<Figure size 640x480 with 1 Axes>"
      ]
     },
     "metadata": {},
     "output_type": "display_data"
    }
   ],
   "source": [
    "import numpy as np\n",
    "\n",
    "import matplotlib.pyplot as plt\n",
    "import statsmodels.api as sm\n",
    "\n",
    "# Calculate the ECDF\n",
    "ecdf = sm.distributions.ECDF(df_sub['time_to_procurement'])\n",
    "\n",
    "# Generate x values for the ECDF plot\n",
    "x = np.linspace(min(df_sub['time_to_procurement']), max(df_sub['time_to_procurement']), num=100)\n",
    "\n",
    "# Calculate the y values for the ECDF plot\n",
    "y = ecdf(x)\n",
    "\n",
    "# Plot the ECDF\n",
    "plt.plot(x, y)\n",
    "plt.xlabel('Time to Procurement')\n",
    "plt.ylabel('ECDF')\n",
    "plt.title('ECDF Plot of Time to Procurement')\n",
    "\n",
    "plt.show()"
   ]
  },
  {
   "cell_type": "code",
   "execution_count": 10,
   "metadata": {},
   "outputs": [
    {
     "data": {
      "text/plain": [
       "np.float64(0.9988423489791622)"
      ]
     },
     "execution_count": 10,
     "metadata": {},
     "output_type": "execute_result"
    }
   ],
   "source": [
    "y[20]"
   ]
  },
  {
   "cell_type": "markdown",
   "metadata": {},
   "source": [
    "As we can see, the 99% of the date is kept with data from 0 to 20 days. So we keep this data with us."
   ]
  },
  {
   "cell_type": "code",
   "execution_count": 11,
   "metadata": {},
   "outputs": [],
   "source": [
    "df_model = df_sub.loc[\n",
    "    (df_sub['time_to_procurement'] <= 20) & \n",
    "    (df_sub['time_to_procurement'] > 0) # one negative value\n",
    "    ].copy()"
   ]
  },
  {
   "cell_type": "markdown",
   "metadata": {},
   "source": [
    "In order to visualize the data we plot again the distribution:"
   ]
  },
  {
   "cell_type": "code",
   "execution_count": 12,
   "metadata": {},
   "outputs": [
    {
     "data": {
      "image/png": "[encoded data removed]",
      "text/plain": [
       "<Figure size 640x480 with 1 Axes>"
      ]
     },
     "metadata": {},
     "output_type": "display_data"
    }
   ],
   "source": [
    "import numpy as np\n",
    "\n",
    "import matplotlib.pyplot as plt\n",
    "import statsmodels.api as sm\n",
    "\n",
    "# Calculate the ECDF\n",
    "ecdf = sm.distributions.ECDF(df_model['time_to_procurement'])\n",
    "\n",
    "# Generate x values for the ECDF plot\n",
    "x = np.linspace(min(df_model['time_to_procurement']), max(df_model['time_to_procurement']), num=100)\n",
    "\n",
    "# Calculate the y values for the ECDF plot\n",
    "y = ecdf(x)\n",
    "\n",
    "# Plot the ECDF\n",
    "plt.plot(x, y)\n",
    "plt.xlabel('Time to Procurement')\n",
    "plt.ylabel('ECDF')\n",
    "plt.title('ECDF Plot of Time to Procurement')\n",
    "\n",
    "plt.show()"
   ]
  },
  {
   "cell_type": "code",
   "execution_count": 13,
   "metadata": {},
   "outputs": [
    {
     "data": {
      "image/png": "[encoded data removed]",
      "text/plain": [
       "<Figure size 640x480 with 1 Axes>"
      ]
     },
     "metadata": {},
     "output_type": "display_data"
    }
   ],
   "source": [
    "import matplotlib.pyplot as plt\n",
    "\n",
    "# Plot histogram\n",
    "plt.hist(df_model['time_to_procurement'], bins=5, edgecolor='black')\n",
    "\n",
    "# Add labels and title\n",
    "plt.xlabel('time_to_procurement')\n",
    "plt.ylabel('Frequency')\n",
    "plt.title('Histogram of time_to_procurement')\n",
    "\n",
    "# Show the plot\n",
    "plt.show()"
   ]
  },
  {
   "cell_type": "markdown",
   "metadata": {},
   "source": [
    "# Now we need develop our model"
   ]
  },
  {
   "cell_type": "markdown",
   "metadata": {},
   "source": [
    "## features"
   ]
  },
  {
   "cell_type": "code",
   "execution_count": 14,
   "metadata": {},
   "outputs": [
    {
     "data": {
      "text/html": [
       "<div>\n",
       "<style scoped>\n",
       "    .dataframe tbody tr th:only-of-type {\n",
       "        vertical-align: middle;\n",
       "    }\n",
       "\n",
       "    .dataframe tbody tr th {\n",
       "        vertical-align: top;\n",
       "    }\n",
       "\n",
       "    .dataframe thead th {\n",
       "        text-align: right;\n",
       "    }\n",
       "</style>\n",
       "<table border=\"1\" class=\"dataframe\">\n",
       "  <thead>\n",
       "    <tr style=\"text-align: right;\">\n",
       "      <th></th>\n",
       "      <th>ABO_BloodType</th>\n",
       "      <th>ABO_Rh</th>\n",
       "    </tr>\n",
       "  </thead>\n",
       "  <tbody>\n",
       "    <tr>\n",
       "      <th>25</th>\n",
       "      <td>O</td>\n",
       "      <td>Positive</td>\n",
       "    </tr>\n",
       "    <tr>\n",
       "      <th>42</th>\n",
       "      <td>A</td>\n",
       "      <td>Positive</td>\n",
       "    </tr>\n",
       "    <tr>\n",
       "      <th>49</th>\n",
       "      <td>O</td>\n",
       "      <td>Positive</td>\n",
       "    </tr>\n",
       "    <tr>\n",
       "      <th>65</th>\n",
       "      <td>A2</td>\n",
       "      <td>Positive</td>\n",
       "    </tr>\n",
       "    <tr>\n",
       "      <th>70</th>\n",
       "      <td>O</td>\n",
       "      <td>Positive</td>\n",
       "    </tr>\n",
       "    <tr>\n",
       "      <th>...</th>\n",
       "      <td>...</td>\n",
       "      <td>...</td>\n",
       "    </tr>\n",
       "    <tr>\n",
       "      <th>133010</th>\n",
       "      <td>A1</td>\n",
       "      <td>Positive</td>\n",
       "    </tr>\n",
       "    <tr>\n",
       "      <th>133023</th>\n",
       "      <td>O</td>\n",
       "      <td>Positive</td>\n",
       "    </tr>\n",
       "    <tr>\n",
       "      <th>133026</th>\n",
       "      <td>A</td>\n",
       "      <td>Positive</td>\n",
       "    </tr>\n",
       "    <tr>\n",
       "      <th>133081</th>\n",
       "      <td>O</td>\n",
       "      <td>Negative</td>\n",
       "    </tr>\n",
       "    <tr>\n",
       "      <th>133090</th>\n",
       "      <td>A</td>\n",
       "      <td>Negative</td>\n",
       "    </tr>\n",
       "  </tbody>\n",
       "</table>\n",
       "<p>9264 rows × 2 columns</p>\n",
       "</div>"
      ],
      "text/plain": [
       "       ABO_BloodType    ABO_Rh\n",
       "25                 O  Positive\n",
       "42                 A  Positive\n",
       "49                 O  Positive\n",
       "65                A2  Positive\n",
       "70                 O  Positive\n",
       "...              ...       ...\n",
       "133010            A1  Positive\n",
       "133023             O  Positive\n",
       "133026             A  Positive\n",
       "133081             O  Negative\n",
       "133090             A  Negative\n",
       "\n",
       "[9264 rows x 2 columns]"
      ]
     },
     "execution_count": 14,
     "metadata": {},
     "output_type": "execute_result"
    }
   ],
   "source": [
    "df_model[['ABO_BloodType', 'ABO_Rh']] # we combine strings to create a new \n",
    "# column to use as a feature 'bold_type' "
   ]
  },
  {
   "cell_type": "code",
   "execution_count": 15,
   "metadata": {},
   "outputs": [],
   "source": [
    "df_model['blod_type'] = df_model['ABO_BloodType'] + '-' + df_model['ABO_Rh']"
   ]
  },
  {
   "cell_type": "code",
   "execution_count": 16,
   "metadata": {},
   "outputs": [
    {
     "data": {
      "text/html": [
       "<div>\n",
       "<style scoped>\n",
       "    .dataframe tbody tr th:only-of-type {\n",
       "        vertical-align: middle;\n",
       "    }\n",
       "\n",
       "    .dataframe tbody tr th {\n",
       "        vertical-align: top;\n",
       "    }\n",
       "\n",
       "    .dataframe thead th {\n",
       "        text-align: right;\n",
       "    }\n",
       "</style>\n",
       "<table border=\"1\" class=\"dataframe\">\n",
       "  <thead>\n",
       "    <tr style=\"text-align: right;\">\n",
       "      <th></th>\n",
       "      <th>ABO_BloodType</th>\n",
       "      <th>ABO_Rh</th>\n",
       "      <th>blod_type</th>\n",
       "    </tr>\n",
       "  </thead>\n",
       "  <tbody>\n",
       "    <tr>\n",
       "      <th>25</th>\n",
       "      <td>O</td>\n",
       "      <td>Positive</td>\n",
       "      <td>O-Positive</td>\n",
       "    </tr>\n",
       "    <tr>\n",
       "      <th>42</th>\n",
       "      <td>A</td>\n",
       "      <td>Positive</td>\n",
       "      <td>A-Positive</td>\n",
       "    </tr>\n",
       "    <tr>\n",
       "      <th>49</th>\n",
       "      <td>O</td>\n",
       "      <td>Positive</td>\n",
       "      <td>O-Positive</td>\n",
       "    </tr>\n",
       "    <tr>\n",
       "      <th>65</th>\n",
       "      <td>A2</td>\n",
       "      <td>Positive</td>\n",
       "      <td>A2-Positive</td>\n",
       "    </tr>\n",
       "    <tr>\n",
       "      <th>70</th>\n",
       "      <td>O</td>\n",
       "      <td>Positive</td>\n",
       "      <td>O-Positive</td>\n",
       "    </tr>\n",
       "    <tr>\n",
       "      <th>...</th>\n",
       "      <td>...</td>\n",
       "      <td>...</td>\n",
       "      <td>...</td>\n",
       "    </tr>\n",
       "    <tr>\n",
       "      <th>133010</th>\n",
       "      <td>A1</td>\n",
       "      <td>Positive</td>\n",
       "      <td>A1-Positive</td>\n",
       "    </tr>\n",
       "    <tr>\n",
       "      <th>133023</th>\n",
       "      <td>O</td>\n",
       "      <td>Positive</td>\n",
       "      <td>O-Positive</td>\n",
       "    </tr>\n",
       "    <tr>\n",
       "      <th>133026</th>\n",
       "      <td>A</td>\n",
       "      <td>Positive</td>\n",
       "      <td>A-Positive</td>\n",
       "    </tr>\n",
       "    <tr>\n",
       "      <th>133081</th>\n",
       "      <td>O</td>\n",
       "      <td>Negative</td>\n",
       "      <td>O-Negative</td>\n",
       "    </tr>\n",
       "    <tr>\n",
       "      <th>133090</th>\n",
       "      <td>A</td>\n",
       "      <td>Negative</td>\n",
       "      <td>A-Negative</td>\n",
       "    </tr>\n",
       "  </tbody>\n",
       "</table>\n",
       "<p>9264 rows × 3 columns</p>\n",
       "</div>"
      ],
      "text/plain": [
       "       ABO_BloodType    ABO_Rh    blod_type\n",
       "25                 O  Positive   O-Positive\n",
       "42                 A  Positive   A-Positive\n",
       "49                 O  Positive   O-Positive\n",
       "65                A2  Positive  A2-Positive\n",
       "70                 O  Positive   O-Positive\n",
       "...              ...       ...          ...\n",
       "133010            A1  Positive  A1-Positive\n",
       "133023             O  Positive   O-Positive\n",
       "133026             A  Positive   A-Positive\n",
       "133081             O  Negative   O-Negative\n",
       "133090             A  Negative   A-Negative\n",
       "\n",
       "[9264 rows x 3 columns]"
      ]
     },
     "execution_count": 16,
     "metadata": {},
     "output_type": "execute_result"
    }
   ],
   "source": [
    "df_model[['ABO_BloodType', 'ABO_Rh', 'blod_type']]"
   ]
  },
  {
   "cell_type": "code",
   "execution_count": 19,
   "metadata": {},
   "outputs": [],
   "source": [
    "from sklearn.model_selection import train_test_split\n",
    "from sklearn.linear_model import LinearRegression\n",
    "from sklearn.ensemble import RandomForestRegressor\n",
    "\n",
    "features = ['Age', 'Gender', 'Race', 'HeightIn', 'WeightKg', 'blod_type', 'brain_death']\n",
    "\n",
    "X = pd.get_dummies(df_model[features], drop_first=True)\n",
    "y = df_model['time_to_procurement']\n",
    "\n",
    "# Split data\n",
    "X_train, X_test, y_train, y_test = train_test_split(X, y, test_size=0.2, random_state=42)\n"
   ]
  },
  {
   "cell_type": "code",
   "execution_count": 20,
   "metadata": {},
   "outputs": [],
   "source": [
    "# Train and evaluate Linear Regression model\n",
    "lr_model = LinearRegression()\n",
    "lr_model.fit(X_train, y_train)\n",
    "y_pred_lr = lr_model.predict(X_test)"
   ]
  },
  {
   "cell_type": "code",
   "execution_count": 21,
   "metadata": {},
   "outputs": [],
   "source": [
    "from sklearn.metrics import mean_absolute_error, mean_squared_error"
   ]
  },
  {
   "cell_type": "code",
   "execution_count": 22,
   "metadata": {},
   "outputs": [
    {
     "name": "stdout",
     "output_type": "stream",
     "text": [
      "Linear Regression MAE: 1.554226591314328\n",
      "Linear Regression RMSE: 2.1474735599910244\n"
     ]
    }
   ],
   "source": [
    "print(\"Linear Regression MAE:\", mean_absolute_error(y_test, y_pred_lr))\n",
    "print(\"Linear Regression RMSE:\", np.sqrt(mean_squared_error(y_test, y_pred_lr)))"
   ]
  },
  {
   "cell_type": "code",
   "execution_count": 23,
   "metadata": {},
   "outputs": [
    {
     "name": "stdout",
     "output_type": "stream",
     "text": [
      "Random Forest Regression MAE: 1.6591419320021588\n",
      "Random Forest Regression RMSE: 2.3093336390502355\n"
     ]
    }
   ],
   "source": [
    "# Train and evaluate Random Forest Regressor model\n",
    "rf_model = RandomForestRegressor(n_estimators=100, random_state=42)\n",
    "rf_model.fit(X_train, y_train)\n",
    "y_pred_rf = rf_model.predict(X_test)\n",
    "print(\"Random Forest Regression MAE:\", mean_absolute_error(y_test, y_pred_rf))\n",
    "print(\"Random Forest Regression RMSE:\", np.sqrt(mean_squared_error(y_test, y_pred_rf)))"
   ]
  },
  {
   "cell_type": "code",
   "execution_count": 24,
   "metadata": {},
   "outputs": [
    {
     "name": "stdout",
     "output_type": "stream",
     "text": [
      "XGBoost MAE: 1.5567648928035482\n",
      "XGBoost RMSE: 2.158888566977263\n"
     ]
    }
   ],
   "source": [
    "import xgboost as xgb\n",
    "# Train XGBoost model\n",
    "xg_reg = xgb.XGBRegressor(objective='reg:squarederror', colsample_bytree=0.3, learning_rate=0.1,\n",
    "                          max_depth=5, alpha=10, n_estimators=100)\n",
    "xg_reg.fit(X_train, y_train)\n",
    "\n",
    "# Predict and evaluate\n",
    "y_pred = xg_reg.predict(X_test)\n",
    "print(\"XGBoost MAE:\", mean_absolute_error(y_test, y_pred))\n",
    "print(\"XGBoost RMSE:\", np.sqrt(mean_squared_error(y_test, y_pred)))"
   ]
  },
  {
   "cell_type": "code",
   "execution_count": 25,
   "metadata": {},
   "outputs": [],
   "source": [
    "def smape(y_true, y_pred):\n",
    "    return 100 * np.mean(2 * np.abs(y_pred - y_true) / (np.abs(y_true) + np.abs(y_pred)))\n"
   ]
  },
  {
   "cell_type": "code",
   "execution_count": 26,
   "metadata": {},
   "outputs": [
    {
     "name": "stdout",
     "output_type": "stream",
     "text": [
      "Linear Regression SMAPE: 43.5886430407095\n",
      "Random Forest Regression SMAPE: 45.41735420308041\n",
      "XGBoost SMAPE: 43.692081647586065\n"
     ]
    }
   ],
   "source": [
    "print(\"Linear Regression SMAPE:\", smape(y_test, y_pred_lr))\n",
    "print(\"Random Forest Regression SMAPE:\", smape(y_test, y_pred_rf))\n",
    "print(\"XGBoost SMAPE:\", smape(y_test, y_pred))\n"
   ]
  }
 ],
 "metadata": {
  "kernelspec": {
   "display_name": ".venv",
   "language": "python",
   "name": "python3"
  },
  "language_info": {
   "codemirror_mode": {
    "name": "ipython",
    "version": 3
   },
   "file_extension": ".py",
   "mimetype": "text/x-python",
   "name": "python",
   "nbconvert_exporter": "python",
   "pygments_lexer": "ipython3",
   "version": "3.10.13"
  }
 },
 "nbformat": 4,
 "nbformat_minor": 2
}
