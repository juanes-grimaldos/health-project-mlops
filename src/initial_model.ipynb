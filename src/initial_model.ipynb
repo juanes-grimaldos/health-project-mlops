{
 "cells": [
  {
   "cell_type": "markdown",
   "metadata": {},
   "source": [
    "# Estimating Time from Referral to Procurement\n",
    "\n",
    "**Objective:** Predict the time interval between hospital referral and organ procurement.\n",
    "\n",
    "**Features:**\n",
    "\n",
    "- Patient Demographics: `Age`, `Gender`, `Race`\n",
    "- Medical Details: `Cause_of_Death_UNOS`, `Mechanism_of_Death`, `Circumstances_of_Death`, `ABO_BloodType`, `ABO_Rh`, `HeightIn`, `WeightKg`\n",
    "- Referral and Authorization Details: `Tissue_Referral`, `Eye_Referral`, `brain_death`, `approached`, `authorized`\n",
    "- Timing Information: `time_brain_death`, `time_asystole`, `time_referred`, `time_approached`, `time_authorized`, `Referral_Year`, `Referral_DayofWeek`, `Procured_Year`\n",
    "- Outcome: `outcome_heart`, `outcome_liver`, `outcome_kidney_left`, `outcome_kidney_right`, `outcome_lung_left`, `outcome_lung_right`, `outcome_intestine`, `outcome_pancreas`\n",
    "\n",
    "**Target:** `time_procured` - `time_referred`\n",
    "\n",
    "**Model Type:** Regression (Linear Regression, Random Forest Regression, Gradient Boosting Regression)"
   ]
  },
  {
   "cell_type": "code",
   "execution_count": 1,
   "metadata": {},
   "outputs": [
    {
     "name": "stderr",
     "output_type": "stream",
     "text": [
      "/tmp/ipykernel_8653/3977359288.py:3: DtypeWarning: Columns (7,12) have mixed types. Specify dtype option on import or set low_memory=False.\n",
      "  df = pd.read_csv('data/referrals.csv')\n"
     ]
    },
    {
     "data": {
      "text/html": [
       "<div>\n",
       "<style scoped>\n",
       "    .dataframe tbody tr th:only-of-type {\n",
       "        vertical-align: middle;\n",
       "    }\n",
       "\n",
       "    .dataframe tbody tr th {\n",
       "        vertical-align: top;\n",
       "    }\n",
       "\n",
       "    .dataframe thead th {\n",
       "        text-align: right;\n",
       "    }\n",
       "</style>\n",
       "<table border=\"1\" class=\"dataframe\">\n",
       "  <thead>\n",
       "    <tr style=\"text-align: right;\">\n",
       "      <th></th>\n",
       "      <th>OPO</th>\n",
       "      <th>PatientID</th>\n",
       "      <th>Age</th>\n",
       "      <th>Gender</th>\n",
       "      <th>Race</th>\n",
       "      <th>HospitalID</th>\n",
       "      <th>brain_death</th>\n",
       "      <th>Cause_of_Death_OPO</th>\n",
       "      <th>Cause_of_Death_UNOS</th>\n",
       "      <th>Mechanism_of_Death</th>\n",
       "      <th>...</th>\n",
       "      <th>Referral_Year</th>\n",
       "      <th>Procured_Year</th>\n",
       "      <th>outcome_heart</th>\n",
       "      <th>outcome_liver</th>\n",
       "      <th>outcome_kidney_left</th>\n",
       "      <th>outcome_kidney_right</th>\n",
       "      <th>outcome_lung_left</th>\n",
       "      <th>outcome_lung_right</th>\n",
       "      <th>outcome_intestine</th>\n",
       "      <th>outcome_pancreas</th>\n",
       "    </tr>\n",
       "  </thead>\n",
       "  <tbody>\n",
       "    <tr>\n",
       "      <th>0</th>\n",
       "      <td>OPO1</td>\n",
       "      <td>OPO1_P320866</td>\n",
       "      <td>62.0</td>\n",
       "      <td>M</td>\n",
       "      <td>White / Caucasian</td>\n",
       "      <td>OPO1_H23456</td>\n",
       "      <td>False</td>\n",
       "      <td>NaN</td>\n",
       "      <td>Head Trauma</td>\n",
       "      <td>NaN</td>\n",
       "      <td>...</td>\n",
       "      <td>2018</td>\n",
       "      <td>NaN</td>\n",
       "      <td>NaN</td>\n",
       "      <td>NaN</td>\n",
       "      <td>NaN</td>\n",
       "      <td>NaN</td>\n",
       "      <td>NaN</td>\n",
       "      <td>NaN</td>\n",
       "      <td>NaN</td>\n",
       "      <td>NaN</td>\n",
       "    </tr>\n",
       "    <tr>\n",
       "      <th>1</th>\n",
       "      <td>OPO1</td>\n",
       "      <td>OPO1_P549364</td>\n",
       "      <td>14.0</td>\n",
       "      <td>F</td>\n",
       "      <td>White / Caucasian</td>\n",
       "      <td>OPO1_H11908</td>\n",
       "      <td>False</td>\n",
       "      <td>NaN</td>\n",
       "      <td>NaN</td>\n",
       "      <td>NaN</td>\n",
       "      <td>...</td>\n",
       "      <td>2021</td>\n",
       "      <td>NaN</td>\n",
       "      <td>NaN</td>\n",
       "      <td>NaN</td>\n",
       "      <td>NaN</td>\n",
       "      <td>NaN</td>\n",
       "      <td>NaN</td>\n",
       "      <td>NaN</td>\n",
       "      <td>NaN</td>\n",
       "      <td>NaN</td>\n",
       "    </tr>\n",
       "    <tr>\n",
       "      <th>2</th>\n",
       "      <td>OPO1</td>\n",
       "      <td>OPO1_P536997</td>\n",
       "      <td>55.0</td>\n",
       "      <td>M</td>\n",
       "      <td>White / Caucasian</td>\n",
       "      <td>OPO1_H23111</td>\n",
       "      <td>False</td>\n",
       "      <td>NaN</td>\n",
       "      <td>CVA/Stroke</td>\n",
       "      <td>ICH/Stroke</td>\n",
       "      <td>...</td>\n",
       "      <td>2015</td>\n",
       "      <td>NaN</td>\n",
       "      <td>NaN</td>\n",
       "      <td>NaN</td>\n",
       "      <td>NaN</td>\n",
       "      <td>NaN</td>\n",
       "      <td>NaN</td>\n",
       "      <td>NaN</td>\n",
       "      <td>NaN</td>\n",
       "      <td>NaN</td>\n",
       "    </tr>\n",
       "    <tr>\n",
       "      <th>3</th>\n",
       "      <td>OPO1</td>\n",
       "      <td>OPO1_P463285</td>\n",
       "      <td>48.0</td>\n",
       "      <td>F</td>\n",
       "      <td>Black / African American</td>\n",
       "      <td>OPO1_H26589</td>\n",
       "      <td>False</td>\n",
       "      <td>NaN</td>\n",
       "      <td>Anoxia</td>\n",
       "      <td>Cardiovascular</td>\n",
       "      <td>...</td>\n",
       "      <td>2019</td>\n",
       "      <td>NaN</td>\n",
       "      <td>NaN</td>\n",
       "      <td>NaN</td>\n",
       "      <td>NaN</td>\n",
       "      <td>NaN</td>\n",
       "      <td>NaN</td>\n",
       "      <td>NaN</td>\n",
       "      <td>NaN</td>\n",
       "      <td>NaN</td>\n",
       "    </tr>\n",
       "    <tr>\n",
       "      <th>4</th>\n",
       "      <td>OPO1</td>\n",
       "      <td>OPO1_P284978</td>\n",
       "      <td>80.0</td>\n",
       "      <td>F</td>\n",
       "      <td>White / Caucasian</td>\n",
       "      <td>OPO1_H5832</td>\n",
       "      <td>False</td>\n",
       "      <td>NaN</td>\n",
       "      <td>NaN</td>\n",
       "      <td>NaN</td>\n",
       "      <td>...</td>\n",
       "      <td>2018</td>\n",
       "      <td>NaN</td>\n",
       "      <td>NaN</td>\n",
       "      <td>NaN</td>\n",
       "      <td>NaN</td>\n",
       "      <td>NaN</td>\n",
       "      <td>NaN</td>\n",
       "      <td>NaN</td>\n",
       "      <td>NaN</td>\n",
       "      <td>NaN</td>\n",
       "    </tr>\n",
       "  </tbody>\n",
       "</table>\n",
       "<p>5 rows × 38 columns</p>\n",
       "</div>"
      ],
      "text/plain": [
       "    OPO     PatientID   Age Gender                      Race   HospitalID  \\\n",
       "0  OPO1  OPO1_P320866  62.0      M         White / Caucasian  OPO1_H23456   \n",
       "1  OPO1  OPO1_P549364  14.0      F         White / Caucasian  OPO1_H11908   \n",
       "2  OPO1  OPO1_P536997  55.0      M         White / Caucasian  OPO1_H23111   \n",
       "3  OPO1  OPO1_P463285  48.0      F  Black / African American  OPO1_H26589   \n",
       "4  OPO1  OPO1_P284978  80.0      F         White / Caucasian   OPO1_H5832   \n",
       "\n",
       "   brain_death Cause_of_Death_OPO Cause_of_Death_UNOS Mechanism_of_Death  ...  \\\n",
       "0        False                NaN         Head Trauma                NaN  ...   \n",
       "1        False                NaN                 NaN                NaN  ...   \n",
       "2        False                NaN          CVA/Stroke         ICH/Stroke  ...   \n",
       "3        False                NaN              Anoxia     Cardiovascular  ...   \n",
       "4        False                NaN                 NaN                NaN  ...   \n",
       "\n",
       "  Referral_Year Procured_Year outcome_heart  outcome_liver  \\\n",
       "0          2018           NaN           NaN            NaN   \n",
       "1          2021           NaN           NaN            NaN   \n",
       "2          2015           NaN           NaN            NaN   \n",
       "3          2019           NaN           NaN            NaN   \n",
       "4          2018           NaN           NaN            NaN   \n",
       "\n",
       "   outcome_kidney_left  outcome_kidney_right  outcome_lung_left  \\\n",
       "0                  NaN                   NaN                NaN   \n",
       "1                  NaN                   NaN                NaN   \n",
       "2                  NaN                   NaN                NaN   \n",
       "3                  NaN                   NaN                NaN   \n",
       "4                  NaN                   NaN                NaN   \n",
       "\n",
       "   outcome_lung_right  outcome_intestine  outcome_pancreas  \n",
       "0                 NaN                NaN               NaN  \n",
       "1                 NaN                NaN               NaN  \n",
       "2                 NaN                NaN               NaN  \n",
       "3                 NaN                NaN               NaN  \n",
       "4                 NaN                NaN               NaN  \n",
       "\n",
       "[5 rows x 38 columns]"
      ]
     },
     "execution_count": 1,
     "metadata": {},
     "output_type": "execute_result"
    }
   ],
   "source": [
    "import pandas as pd\n",
    "\n",
    "df = pd.read_csv('data/referrals.csv')\n",
    "df.head(5)"
   ]
  },
  {
   "cell_type": "markdown",
   "metadata": {},
   "source": [
    "# Exploratory data Analysis"
   ]
  },
  {
   "cell_type": "code",
   "execution_count": 2,
   "metadata": {},
   "outputs": [
    {
     "data": {
      "text/plain": [
       "(133101, 38)"
      ]
     },
     "execution_count": 2,
     "metadata": {},
     "output_type": "execute_result"
    }
   ],
   "source": [
    "df.shape"
   ]
  },
  {
   "cell_type": "code",
   "execution_count": 3,
   "metadata": {},
   "outputs": [
    {
     "data": {
      "text/plain": [
       "OPO                       133101\n",
       "PatientID                 133101\n",
       "Age                       133017\n",
       "Gender                    133040\n",
       "Race                      133101\n",
       "HospitalID                133101\n",
       "brain_death               133101\n",
       "Cause_of_Death_OPO         32396\n",
       "Cause_of_Death_UNOS       103283\n",
       "Mechanism_of_Death         98533\n",
       "Circumstances_of_Death     98588\n",
       "ABO_BloodType              18201\n",
       "ABO_Rh                      8743\n",
       "HeightIn                   98500\n",
       "WeightKg                  123346\n",
       "approached                133101\n",
       "authorized                133101\n",
       "procured                  133101\n",
       "transplanted              133101\n",
       "Tissue_Referral           133101\n",
       "Eye_Referral              133101\n",
       "time_asystole              89415\n",
       "time_brain_death           11855\n",
       "time_referred             133101\n",
       "time_approached            16191\n",
       "time_authorized            11665\n",
       "time_procured               9502\n",
       "Referral_DayofWeek        133101\n",
       "Referral_Year             133101\n",
       "Procured_Year               9543\n",
       "outcome_heart               3690\n",
       "outcome_liver               7902\n",
       "outcome_kidney_left         8801\n",
       "outcome_kidney_right        8811\n",
       "outcome_lung_left           3406\n",
       "outcome_lung_right          3446\n",
       "outcome_intestine            368\n",
       "outcome_pancreas            1676\n",
       "dtype: int64"
      ]
     },
     "execution_count": 3,
     "metadata": {},
     "output_type": "execute_result"
    }
   ],
   "source": [
    "df.count()"
   ]
  },
  {
   "cell_type": "markdown",
   "metadata": {},
   "source": [
    "## detect outliers"
   ]
  },
  {
   "cell_type": "code",
   "execution_count": 8,
   "metadata": {},
   "outputs": [
    {
     "data": {
      "text/plain": [
       "nan"
      ]
     },
     "execution_count": 8,
     "metadata": {},
     "output_type": "execute_result"
    }
   ],
   "source": [
    "df['time_procured'][5]"
   ]
  },
  {
   "cell_type": "code",
   "execution_count": 6,
   "metadata": {},
   "outputs": [
    {
     "data": {
      "text/plain": [
       "count                        9502\n",
       "unique                       9496\n",
       "top       2032-11-07 21:59:00.000\n",
       "freq                            2\n",
       "Name: time_procured, dtype: object"
      ]
     },
     "execution_count": 6,
     "metadata": {},
     "output_type": "execute_result"
    }
   ],
   "source": [
    "df['time_procured'].describe()"
   ]
  }
 ],
 "metadata": {
  "kernelspec": {
   "display_name": ".venv",
   "language": "python",
   "name": "python3"
  },
  "language_info": {
   "codemirror_mode": {
    "name": "ipython",
    "version": 3
   },
   "file_extension": ".py",
   "mimetype": "text/x-python",
   "name": "python",
   "nbconvert_exporter": "python",
   "pygments_lexer": "ipython3",
   "version": "3.10.13"
  }
 },
 "nbformat": 4,
 "nbformat_minor": 2
}
